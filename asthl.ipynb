{
 "cells": [
  {
   "cell_type": "code",
   "execution_count": null,
   "metadata": {},
   "outputs": [],
   "source": [
    "%load_ext autoreload\n",
    "%autoreload 2"
   ]
  },
  {
   "cell_type": "code",
   "execution_count": null,
   "metadata": {},
   "outputs": [],
   "source": [
    "import collections\n",
    "import copy\n",
    "import datetime\n",
    "import itertools\n",
    "import json\n",
    "import math\n",
    "import pathlib\n",
    "\n",
    "import pytz\n",
    "\n",
    "import fumbbl_session as S\n",
    "\n",
    "import helper\n",
    "import renderer"
   ]
  },
  {
   "cell_type": "code",
   "execution_count": null,
   "metadata": {},
   "outputs": [],
   "source": [
    "rootpath = pathlib.Path('.')  # uncomment for jupyter\n",
    "#rootpath = pathlib.Path(__file__).parent  # uncomment for script"
   ]
  },
  {
   "cell_type": "code",
   "execution_count": null,
   "metadata": {},
   "outputs": [],
   "source": [
    "ZONE = 'Europe/Stockholm'\n",
    "TZ = pytz.timezone(ZONE)\n",
    "TIME_FORMAT = '%Y-%m-%d %H:%M:%S'\n",
    "WATCHING_NAME = '<font size=8><b>WATCHING</b></font><br/>'\n",
    "LIVE_NAME = '<font color=red size=6><b>LIVE</b></font><br/>'\n",
    "MODIFIED_NAME = '<font color=red size=6><b>MODIFIED</b></font><br/>'\n",
    "EXTRA_STRIP = '⠀'\n",
    "AST_GROUP_ID = 11363\n",
    "DEFAULT_TO = ('<GROUP>', '<TOURNAMENT>',)\n",
    "DEFAULT_SUBJECT = 'AST Hotline'\n",
    "MESSAGE_BODY_LIMIT = 50000\n",
    "POSTPONE_TOLERANCE = datetime.timedelta(0, 900)"
   ]
  },
  {
   "cell_type": "code",
   "execution_count": null,
   "metadata": {},
   "outputs": [],
   "source": [
    "with open(rootpath / 'login.json') as f:\n",
    "    _login = json.load(f)\n",
    "S.log_in(**_login)"
   ]
  },
  {
   "cell_type": "code",
   "execution_count": null,
   "metadata": {},
   "outputs": [],
   "source": [
    "with open(rootpath / 'settings.json') as f:\n",
    "    settings = json.load(f)"
   ]
  },
  {
   "cell_type": "code",
   "execution_count": null,
   "metadata": {
    "scrolled": true
   },
   "outputs": [],
   "source": [
    "watching_text = S.tournament.get_settings(settings[\"group_id\"], settings[\"watching\"])[\"comment\"]\n",
    "watching = json.loads(watching_text or '[]')\n",
    "fillers_text = S.tournament.get_settings(settings[\"group_id\"], settings[\"fillers\"])[\"comment\"]\n",
    "fillers = set(json.loads(fillers_text or '[]'))\n",
    "live_text = S.tournament.get_settings(settings[\"group_id\"], settings[\"live\"])[\"comment\"]\n",
    "live = {\n",
    "        tuple(sorted(team_ids)): TZ.localize(datetime.datetime.strptime(last_time, TIME_FORMAT))\n",
    "        for team_ids, last_time in json.loads(live_text or '[]')\n",
    "}\n",
    "print(live_text)\n",
    "modified_text = S.tournament.get_settings(settings[\"group_id\"], settings[\"modified\"])[\"comment\"]\n",
    "modified = {\n",
    "        int(tournamentId): TZ.localize(datetime.datetime.strptime(timestr, TIME_FORMAT)) for tournamentId, timestr\n",
    "        in json.loads(modified_text or '{}').items()\n",
    "}\n",
    "print(modified_text)"
   ]
  },
  {
   "cell_type": "code",
   "execution_count": null,
   "metadata": {},
   "outputs": [],
   "source": [
    "ast_staff = {d[\"coach\"] for d in S.group.get_members(AST_GROUP_ID) if 'Editor' in d[\"rosterName\"]}"
   ]
  },
  {
   "cell_type": "code",
   "execution_count": null,
   "metadata": {},
   "outputs": [],
   "source": [
    "now = datetime.datetime.now(TZ)\n",
    "now"
   ]
  },
  {
   "cell_type": "code",
   "execution_count": null,
   "metadata": {},
   "outputs": [],
   "source": [
    "tournament_schedule = helper.keydefaultdict(lambda tournamentId: S.tournament.get_schedule(tournamentId))"
   ]
  },
  {
   "cell_type": "code",
   "execution_count": null,
   "metadata": {},
   "outputs": [],
   "source": [
    "group = helper.keydefaultdict(lambda groupId: S.group.get(groupId))"
   ]
  },
  {
   "cell_type": "code",
   "execution_count": null,
   "metadata": {},
   "outputs": [],
   "source": [
    "group_tournament = {}\n",
    "tournament_group = {}\n",
    "groupIds = set(d[\"groupId\"] for d in watching if \"groupId\" in d)\n",
    "for groupId in groupIds:\n",
    "    tournaments_ = {\n",
    "            int(d2[\"id\"]): d2 for d2 in S.group.get_tournaments(groupId)\n",
    "            if int(d2[\"id\"]) in modified or d2[\"status\"] == 'In Progress'\n",
    "    }\n",
    "    for d in tournaments_.values():\n",
    "        d['group'] = group[groupId]\n",
    "    tournamentIds = set(d.get(\"tournamentId\") for d in watching if d.get(\"groupId\") == groupId)\n",
    "    if None in tournamentIds:\n",
    "        group_tournament[groupId] = tournaments_\n",
    "    else:\n",
    "        group_tournament[groupId] = {tournamentId: d for tournamentId, d in tournaments_.items() if tournamentId in tournamentIds}\n",
    "    tournament_group.update({tournamentId: groupId for tournamentId in group_tournament[groupId]})\n",
    "tournamentIds = set(tournamentId for d in group_tournament.values() for tournamentId in d)\n",
    "inProgressTournamentIds = set(\n",
    "    tournamentId for d in group_tournament.values() for tournamentId, d2 in d.items()\n",
    "    if d2[\"status\"] == 'In Progress'\n",
    ")"
   ]
  },
  {
   "cell_type": "code",
   "execution_count": null,
   "metadata": {},
   "outputs": [],
   "source": [
    "group_team_coaches = helper.keydefaultdict(lambda groupId: {int(d['id']): d['coach'] for d in S.group.get_members(groupId)})"
   ]
  },
  {
   "cell_type": "code",
   "execution_count": null,
   "metadata": {},
   "outputs": [],
   "source": [
    "current_matches = {\n",
    "        tuple(sorted(d2[\"id\"] for d2 in d[\"teams\"])): d\n",
    "        for d in S.match.get_current() if d.get('tournament', {}).get('id') in tournamentIds\n",
    "}\n",
    "current_matches"
   ]
  },
  {
   "cell_type": "code",
   "execution_count": null,
   "metadata": {},
   "outputs": [],
   "source": [
    "events = {}\n",
    "for groupId, d in group_tournament.items():\n",
    "    for tournamentId, d2 in d.items():\n",
    "        print(tournamentId)\n",
    "        d2['groupId'] = groupId\n",
    "        schedule = d2['schedule'] = tournament_schedule[tournamentId]\n",
    "        new_modified = last_modified = modified.get(tournamentId, datetime.datetime.min)\n",
    "        for pairing in schedule:\n",
    "            p_modified = pairing.get('modified')\n",
    "            if not p_modified:\n",
    "                continue\n",
    "            p_modified = TZ.localize(datetime.datetime.strptime(p_modified, TIME_FORMAT))\n",
    "            if p_modified <= last_modified:\n",
    "                continue\n",
    "            team_ids = tuple(sorted(d3[\"id\"] for d3 in pairing[\"teams\"]))\n",
    "            if set(team_ids) & fillers:\n",
    "                continue\n",
    "            if pairing.get('result'):\n",
    "                if pairing[\"result\"].get('id'):\n",
    "                    status = 'FINISHED'\n",
    "                else:\n",
    "                    status = 'FORFEITED'\n",
    "                if team_ids in live:\n",
    "                    del live[team_ids]\n",
    "            elif team_ids in current_matches and team_ids not in live:\n",
    "                status = 'LIVE'\n",
    "            elif team_ids not in current_matches and team_ids in live:\n",
    "                status = 'POSTPONED'                  \n",
    "                if live[team_ids] + POSTPONE_TOLERANCE < now:\n",
    "                    del live[team_ids]\n",
    "                elif now <= live[team_ids]:  # should never happen but if it does it causes an endless loop if unhandled\n",
    "                    del live[team_ids]\n",
    "                    continue\n",
    "                else:\n",
    "                    continue\n",
    "            else:\n",
    "                continue\n",
    "            pairing['status'] = status\n",
    "            pairing['groupId'] = groupId\n",
    "            pairing['tournamentId'] = tournamentId\n",
    "            new_modified = max(new_modified, p_modified)\n",
    "            events[(p_modified, team_ids)] = pairing\n",
    "        modified[tournamentId] = new_modified"
   ]
  },
  {
   "cell_type": "code",
   "execution_count": null,
   "metadata": {},
   "outputs": [],
   "source": [
    "team = helper.keydefaultdict(S.team.get)"
   ]
  },
  {
   "cell_type": "code",
   "execution_count": null,
   "metadata": {},
   "outputs": [],
   "source": [
    "def _tournament_team_coach_gen(tournamentId):\n",
    "    groupId = tournament_group[tournamentId]\n",
    "    team_coaches = group_team_coaches[groupId]\n",
    "    teamIds = {\n",
    "            team['id'] for pairing in tournament_schedule[tournamentId] \n",
    "            for team in pairing['teams'] if team['id'] not in fillers\n",
    "    }\n",
    "    for teamId in teamIds:\n",
    "        try:\n",
    "            yield teamId, team_coaches[teamId]\n",
    "        except KeyError:\n",
    "            yield teamId, team[teamId][\"coach\"][\"name\"]\n",
    "tournament_team_coaches = helper.keydefaultdict(lambda tournamentId: {\n",
    "        teamId: coachName for teamId, coachName in _tournament_team_coach_gen(tournamentId)\n",
    "})"
   ]
  },
  {
   "cell_type": "code",
   "execution_count": null,
   "metadata": {},
   "outputs": [],
   "source": [
    "match = helper.keydefaultdict(lambda match_id: S.match.get_list(match_id)[0])"
   ]
  },
  {
   "cell_type": "code",
   "execution_count": null,
   "metadata": {},
   "outputs": [],
   "source": [
    "conversations = collections.defaultdict(list)\n",
    "conversation_settings = {}\n",
    "for k in sorted(events):\n",
    "    event = events[k]\n",
    "    for w in watching:\n",
    "        if not w.get('conversationId'):\n",
    "            continue\n",
    "        conversationId = w['conversationId']\n",
    "        this_conversation_settings = conversation_settings.setdefault(conversationId, {})\n",
    "        for subkey in ('subject', 'to', 'intro'):\n",
    "            wkey = f'conversation{subkey.title()}'\n",
    "            if wkey in w:\n",
    "                if subkey == 'to':\n",
    "                    this_conversation_settings.setdefault(subkey, []).extend(w[wkey])\n",
    "                else:\n",
    "                    this_conversation_settings.setdefault(subkey, w[wkey])\n",
    "        if w.get('tournamentId') != event[\"tournamentId\"] and w.get('groupId') != event[\"groupId\"]:\n",
    "            continue\n",
    "        elif w.get('tournamentId') is not None and w[\"tournamentId\"] != event[\"tournamentId\"]:\n",
    "            continue\n",
    "        event2 = copy.deepcopy(event)\n",
    "        namespace = {'groupId': event[\"groupId\"]}\n",
    "        namespace[\"pairing\"] = {\n",
    "                k: v for k, v in event2.items()\n",
    "                if k in ('position', 'round', 'created', 'modified')\n",
    "        }\n",
    "        if namespace[\"pairing\"][\"position\"] <= 0:\n",
    "            namespace[\"pairing\"][\"title\"] = f'ROUND {namespace[\"pairing\"][\"round\"]}'\n",
    "        else:\n",
    "            pairing_title_index = math.floor(math.log(namespace[\"pairing\"][\"position\"], 2))\n",
    "            if (0 < pairing_title_index <= 2):\n",
    "                namespace[\"pairing\"][\"title\"] = ('FINAL', 'SEMIFINAL', 'QUARTERFINAL')[pairing_title_index]\n",
    "            else:\n",
    "                namespace[\"pairing\"][\"title\"] = f'ROUND OF {2**(pairing_title_index+1)}'\n",
    "        namespace[\"status\"] = status = event2[\"status\"]\n",
    "        namespace[\"date\"], namespace[\"time\"] = event2[\"modified\"].split()\n",
    "        team_ids = tuple(sorted(t[\"id\"] for t in event[\"teams\"]))\n",
    "        winner = event2.get(\"result\", {}).get(\"winner\")\n",
    "        tournament_data = group_tournament[event[\"groupId\"]][event[\"tournamentId\"]]\n",
    "        namespace[\"tournament\"] = {'id': tournament_data[\"id\"], 'name': tournament_data[\"name\"]}\n",
    "        namespace[\"tournament\"][\"name\"] = w.get('tournamentName') or namespace[\"tournament\"][\"name\"]\n",
    "        if status == 'FINISHED':\n",
    "            match_id = event2[\"result\"][\"id\"]\n",
    "            namespace[\"match\"] = copy.deepcopy(match[match_id])\n",
    "            match_teams = [namespace[\"match\"][\"team1\"], namespace[\"match\"][\"team2\"]]\n",
    "            del namespace[\"match\"][\"team1\"]\n",
    "            del namespace[\"match\"][\"team2\"]\n",
    "            for k2 in ('date', 'time'):\n",
    "                namespace[k2] = namespace[\"match\"][k2]\n",
    "        elif status == 'LIVE':\n",
    "            namespace[\"live\"] = copy.deepcopy(current_matches[team_ids])\n",
    "            del namespace[\"live\"][\"tournament\"]\n",
    "            match_teams = namespace[\"live\"][\"teams\"]\n",
    "            del namespace[\"live\"][\"teams\"]\n",
    "            for t in match_teams:\n",
    "                t[\"coach\"] = {'name': t[\"coach\"], 'rating': t[\"rating\"]}\n",
    "                del t[\"rating\"]\n",
    "                del t[\"race\"]\n",
    "        namespace[\"teams\"] = [copy.deepcopy(event[\"teams\"][_i]) for _i in range(2)]\n",
    "        for t in namespace[\"teams\"]:\n",
    "            t.update({k:v for k,v in copy.deepcopy(team[t[\"id\"]]).items() if k not in ('players',)})\n",
    "            if status in ('FINISHED', 'LIVE'):\n",
    "                for t2 in match_teams:\n",
    "                    if t[\"id\"] == t2[\"id\"]:\n",
    "                        t.update(t2)\n",
    "            t[\"name\"] = (w.get('teamName', {}).get(t[\"name\"]) or t[\"name\"]).strip()\n",
    "            t[\"name\"] = t[\"name\"].strip(EXTRA_STRIP)\n",
    "            t[\"coach\"][\"shownname\"] = (w.get('coachName', {}).get(t[\"coach\"][\"name\"]) or t[\"coach\"][\"name\"]).strip()\n",
    "            t[\"coach\"][\"shownname\"] = t[\"coach\"][\"shownname\"].strip(EXTRA_STRIP)\n",
    "            t[\"roster\"][\"name\"] = (w.get('rosterName', {}).get(t[\"roster\"][\"name\"]) or t[\"roster\"][\"name\"]).strip()\n",
    "            t[\"roster\"][\"name\"] = t[\"roster\"][\"name\"].strip(EXTRA_STRIP)\n",
    "            if str(t[\"id\"]) == winner:\n",
    "                t[\"winner\"] = True\n",
    "            else:\n",
    "                t[\"winner\"] = False\n",
    "            if str(t[\"teamValue\"]).isdecimal():\n",
    "                if 10000 <= int(t[\"teamValue\"]):\n",
    "                    t[\"teamValue\"] = f'{t[\"teamValue\"]//1000}k'\n",
    "                else:\n",
    "                    t[\"teamValue\"] = f'{t[\"teamValue\"]}k'\n",
    "        s = renderer.render(namespace, w.get('renderer'))\n",
    "        conversations[w['conversationId']].append(s)"
   ]
  },
  {
   "cell_type": "code",
   "execution_count": null,
   "metadata": {},
   "outputs": [],
   "source": [
    "for conversationId, conversation_elems in conversations.items():\n",
    "    this_conversation_settings = conversation_settings[conversationId]\n",
    "    conversation_watching = [w for w in watching if w.get('conversationId') == conversationId]\n",
    "    def _message_parts_gen():\n",
    "        message_parts = []\n",
    "        for message_part in itertools.chain(reversed(conversation_elems), [this_conversation_settings.get('intro', '')]):\n",
    "            if MESSAGE_BODY_LIMIT < sum(len(m) for m in message_parts) + len(message_part):\n",
    "                yield message_parts\n",
    "                message_parts = []\n",
    "            message_parts.append(message_part)\n",
    "        else:\n",
    "            yield message_parts\n",
    "    for i, message_parts in enumerate(reversed(list(_message_parts_gen()))):\n",
    "        message = '\\n'.join(message_parts).strip()\n",
    "        if i == 0:\n",
    "            saved_to = {'<AST>'} | set(this_conversation_settings.get('to', DEFAULT_TO))\n",
    "            print(conversationId, saved_to)\n",
    "            to = copy.deepcopy(saved_to)\n",
    "            if '<AST>' in to:\n",
    "                to.remove('<AST>')\n",
    "                to |= ast_staff\n",
    "            if '<GROUP>' in to:\n",
    "                groupIds = set(w[\"groupId\"] for w in conversation_watching if w.get('groupId'))\n",
    "                to.remove('<GROUP>')\n",
    "                for groupId in groupIds:\n",
    "                    to |= set(group_team_coaches[groupId].values())\n",
    "            if '<TOURNAMENT>' in to:\n",
    "                tournamentIds = set(w[\"tournamentId\"] for w in conversation_watching if w.get('tournamentId'))\n",
    "                to.remove('<TOURNAMENT>')\n",
    "                for tournamentId in tournamentIds:\n",
    "                    to |= set(tournament_team_coaches[tournamentId].values())\n",
    "            if str(conversationId).isdecimal():\n",
    "                S.message.invite(conversationId, to)\n",
    "                S.message.post(conversationId, message)\n",
    "                pass\n",
    "            else:\n",
    "                subject = this_conversation_settings.get('subject')\n",
    "                if not subject:\n",
    "                    subject = DEFAULT_SUBJECT\n",
    "                    watching_names = []\n",
    "                    for w in conversation_watching:\n",
    "                        if w.get('tournamentId'):\n",
    "                            watching_names.append(group_tournament[w[\"groupId\"]][w[\"tournamentId\"]][\"name\"])\n",
    "                        elif w.get('groupId'):\n",
    "                            watching_names.append(group[w[\"groupId\"]][\"name\"])\n",
    "                    if watching_names:\n",
    "                        subject += ' for ' + ', '.join(sorted(watching_names))\n",
    "                new_conversationId = S.message.new(to, subject, message)\n",
    "                for w in conversation_watching:\n",
    "                    w[\"conversationId\"] = new_conversationId\n",
    "                conversation_settings[new_conversationId] = conversation_settings[conversationId]\n",
    "                conversationId = new_conversationId\n",
    "        else:\n",
    "            S.message.post(conversationId, message)"
   ]
  },
  {
   "cell_type": "code",
   "execution_count": null,
   "metadata": {},
   "outputs": [],
   "source": [
    "new_watching_text = json.dumps(\n",
    "        [d for d in watching if d.get('tournamentId') is None or int(d['tournamentId']) in inProgressTournamentIds], \n",
    "        indent='\\t',\n",
    ")\n",
    "print(new_watching_text)\n",
    "directory = pathlib.Path('./watching')\n",
    "if new_watching_text != watching_text or not directory.exists():\n",
    "    directory.mkdir(parents=True, exist_ok=True) \n",
    "    with open(directory/f'watching.{now.strftime(\"%y%m%d.%H%M\")}.json', 'w') as f:\n",
    "        f.write(new_watching_text)\n",
    "S.tournament.set_settings_data(\n",
    "    {'name': WATCHING_NAME, 'comment': new_watching_text}, \n",
    "    settings[\"group_id\"], settings[\"watching\"]\n",
    ")"
   ]
  },
  {
   "cell_type": "code",
   "execution_count": null,
   "metadata": {},
   "outputs": [],
   "source": [
    "for team_ids in current_matches:\n",
    "    live[team_ids] = now.strftime(TIME_FORMAT)\n",
    "new_live_text = json.dumps([[list(team_ids), last_time] for team_ids, last_time in live.items()])\n",
    "print(new_live_text)\n",
    "directory = pathlib.Path(rootpath / 'live')\n",
    "if new_live_text != live_text or not directory.exists():\n",
    "    directory.mkdir(parents=True, exist_ok=True) \n",
    "    with open(directory/f'live.{now.strftime(\"%y%m%d.%H%M\")}.json', 'w') as f:\n",
    "        f.write(new_live_text)\n",
    "S.tournament.set_settings_data(\n",
    "    {'name': LIVE_NAME, 'comment': new_live_text}, \n",
    "    settings[\"group_id\"], settings[\"live\"]\n",
    ")"
   ]
  },
  {
   "cell_type": "code",
   "execution_count": null,
   "metadata": {},
   "outputs": [],
   "source": [
    "new_modified_text = json.dumps({\n",
    "        str(tournamentId): datetimeobj.strftime(TIME_FORMAT)\n",
    "        for tournamentId, datetimeobj in sorted(modified.items()) if tournamentId in inProgressTournamentIds\n",
    "}, indent='\\t')\n",
    "print(new_modified_text)\n",
    "directory = pathlib.Path(rootpath / 'modified')\n",
    "if new_modified_text != modified_text or not directory.exists():\n",
    "    directory.mkdir(parents=True, exist_ok=True) \n",
    "    with open(directory/f'modified.{now.strftime(\"%y%m%d.%H%M\")}.json', 'w') as f:\n",
    "        f.write(new_modified_text)\n",
    "S.tournament.set_settings_data(\n",
    "    {'name': MODIFIED_NAME, 'comment': new_modified_text}, \n",
    "    settings[\"group_id\"], settings[\"modified\"]\n",
    ")"
   ]
  },
  {
   "cell_type": "code",
   "execution_count": null,
   "metadata": {},
   "outputs": [],
   "source": []
  },
  {
   "cell_type": "code",
   "execution_count": null,
   "metadata": {},
   "outputs": [],
   "source": []
  }
 ],
 "metadata": {
  "kernelspec": {
   "display_name": "Python 3",
   "language": "python",
   "name": "python3"
  },
  "language_info": {
   "codemirror_mode": {
    "name": "ipython",
    "version": 3
   },
   "file_extension": ".py",
   "mimetype": "text/x-python",
   "name": "python",
   "nbconvert_exporter": "python",
   "pygments_lexer": "ipython3",
   "version": "3.6.3"
  }
 },
 "nbformat": 4,
 "nbformat_minor": 2
}
